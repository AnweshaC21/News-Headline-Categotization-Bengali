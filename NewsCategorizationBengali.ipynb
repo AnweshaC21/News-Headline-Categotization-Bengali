{
  "nbformat": 4,
  "nbformat_minor": 0,
  "metadata": {
    "colab": {
      "provenance": [],
      "authorship_tag": "ABX9TyOuIWTsvF0aIoGpADgSmKoU",
      "include_colab_link": true
    },
    "kernelspec": {
      "name": "python3",
      "display_name": "Python 3"
    },
    "language_info": {
      "name": "python"
    }
  },
  "cells": [
    {
      "cell_type": "markdown",
      "metadata": {
        "id": "view-in-github",
        "colab_type": "text"
      },
      "source": [
        "<a href=\"https://colab.research.google.com/github/AnweshaC21/News-Headline-Categotization-Bengali/blob/main/NewsCategorizationBengali.ipynb\" target=\"_parent\"><img src=\"https://colab.research.google.com/assets/colab-badge.svg\" alt=\"Open In Colab\"/></a>"
      ]
    },
    {
      "cell_type": "code",
      "execution_count": 1,
      "metadata": {
        "colab": {
          "base_uri": "https://localhost:8080/"
        },
        "id": "frT0ugSAyzHj",
        "outputId": "d1505650-aa48-4018-92da-a2a968619034"
      },
      "outputs": [
        {
          "output_type": "stream",
          "name": "stdout",
          "text": [
            "Mounted at /content/gdrive\n"
          ]
        }
      ],
      "source": [
        "from google.colab import drive\n",
        "drive.mount('/content/gdrive')"
      ]
    },
    {
      "cell_type": "code",
      "source": [
        "# importing libraries\n",
        "\n",
        "import numpy as np\n",
        "import pandas as pd\n",
        "import matplotlib.pyplot as plt\n",
        "import seaborn as sns\n",
        "import nltk\n",
        "import re\n",
        "import warnings\n",
        "from sklearn import preprocessing \n",
        "from sklearn.model_selection import train_test_split\n",
        "from sklearn.metrics import accuracy_score, classification_report\n",
        "from sklearn.feature_extraction.text import TfidfVectorizer"
      ],
      "metadata": {
        "id": "a_KmLOpC00O7"
      },
      "execution_count": 2,
      "outputs": []
    },
    {
      "cell_type": "code",
      "source": [
        "# installing and importing bnltk library\n",
        "\n",
        "!pip install bnlp_toolkit\n",
        "from bnlp import BasicTokenizer\n",
        "from bnlp import NLTKTokenizer\n",
        "from bnlp.corpus import stopwords, punctuations, letters, digits\n",
        "from bnlp.corpus import stopwords\n",
        "from bnlp.corpus.util import remove_stopwords\n",
        "from bnlp import BengaliWord2Vec\n",
        "from bnlp.embedding.fasttext import BengaliFasttext\n",
        "from bnlp import BengaliGlove\n",
        "from bnlp import BengaliDoc2vec"
      ],
      "metadata": {
        "colab": {
          "base_uri": "https://localhost:8080/"
        },
        "id": "ni1ipuNbVGlM",
        "outputId": "703b9782-1b52-41e0-942e-2569cd90627d"
      },
      "execution_count": 3,
      "outputs": [
        {
          "output_type": "stream",
          "name": "stdout",
          "text": [
            "Looking in indexes: https://pypi.org/simple, https://us-python.pkg.dev/colab-wheels/public/simple/\n",
            "Collecting bnlp_toolkit\n",
            "  Downloading bnlp_toolkit-3.3.1-py3-none-any.whl (22 kB)\n",
            "Collecting sentencepiece (from bnlp_toolkit)\n",
            "  Downloading sentencepiece-0.1.99-cp310-cp310-manylinux_2_17_x86_64.manylinux2014_x86_64.whl (1.3 MB)\n",
            "\u001b[2K     \u001b[90m━━━━━━━━━━━━━━━━━━━━━━━━━━━━━━━━━━━━━━━━\u001b[0m \u001b[32m1.3/1.3 MB\u001b[0m \u001b[31m20.2 MB/s\u001b[0m eta \u001b[36m0:00:00\u001b[0m\n",
            "\u001b[?25hRequirement already satisfied: gensim in /usr/local/lib/python3.10/dist-packages (from bnlp_toolkit) (4.3.1)\n",
            "Requirement already satisfied: nltk in /usr/local/lib/python3.10/dist-packages (from bnlp_toolkit) (3.8.1)\n",
            "Requirement already satisfied: numpy in /usr/local/lib/python3.10/dist-packages (from bnlp_toolkit) (1.22.4)\n",
            "Requirement already satisfied: scipy in /usr/local/lib/python3.10/dist-packages (from bnlp_toolkit) (1.10.1)\n",
            "Collecting sklearn-crfsuite (from bnlp_toolkit)\n",
            "  Downloading sklearn_crfsuite-0.3.6-py2.py3-none-any.whl (12 kB)\n",
            "Requirement already satisfied: tqdm in /usr/local/lib/python3.10/dist-packages (from bnlp_toolkit) (4.65.0)\n",
            "Collecting ftfy (from bnlp_toolkit)\n",
            "  Downloading ftfy-6.1.1-py3-none-any.whl (53 kB)\n",
            "\u001b[2K     \u001b[90m━━━━━━━━━━━━━━━━━━━━━━━━━━━━━━━━━━━━━━━━\u001b[0m \u001b[32m53.1/53.1 kB\u001b[0m \u001b[31m5.9 MB/s\u001b[0m eta \u001b[36m0:00:00\u001b[0m\n",
            "\u001b[?25hCollecting emoji==1.7.0 (from bnlp_toolkit)\n",
            "  Downloading emoji-1.7.0.tar.gz (175 kB)\n",
            "\u001b[2K     \u001b[90m━━━━━━━━━━━━━━━━━━━━━━━━━━━━━━━━━━━━━━\u001b[0m \u001b[32m175.4/175.4 kB\u001b[0m \u001b[31m21.4 MB/s\u001b[0m eta \u001b[36m0:00:00\u001b[0m\n",
            "\u001b[?25h  Preparing metadata (setup.py) ... \u001b[?25l\u001b[?25hdone\n",
            "Requirement already satisfied: wcwidth>=0.2.5 in /usr/local/lib/python3.10/dist-packages (from ftfy->bnlp_toolkit) (0.2.6)\n",
            "Requirement already satisfied: smart-open>=1.8.1 in /usr/local/lib/python3.10/dist-packages (from gensim->bnlp_toolkit) (6.3.0)\n",
            "Requirement already satisfied: click in /usr/local/lib/python3.10/dist-packages (from nltk->bnlp_toolkit) (8.1.3)\n",
            "Requirement already satisfied: joblib in /usr/local/lib/python3.10/dist-packages (from nltk->bnlp_toolkit) (1.2.0)\n",
            "Requirement already satisfied: regex>=2021.8.3 in /usr/local/lib/python3.10/dist-packages (from nltk->bnlp_toolkit) (2022.10.31)\n",
            "Collecting python-crfsuite>=0.8.3 (from sklearn-crfsuite->bnlp_toolkit)\n",
            "  Downloading python_crfsuite-0.9.9-cp310-cp310-manylinux_2_17_x86_64.manylinux2014_x86_64.whl (993 kB)\n",
            "\u001b[2K     \u001b[90m━━━━━━━━━━━━━━━━━━━━━━━━━━━━━━━━━━━━━━\u001b[0m \u001b[32m993.5/993.5 kB\u001b[0m \u001b[31m62.7 MB/s\u001b[0m eta \u001b[36m0:00:00\u001b[0m\n",
            "\u001b[?25hRequirement already satisfied: six in /usr/local/lib/python3.10/dist-packages (from sklearn-crfsuite->bnlp_toolkit) (1.16.0)\n",
            "Requirement already satisfied: tabulate in /usr/local/lib/python3.10/dist-packages (from sklearn-crfsuite->bnlp_toolkit) (0.8.10)\n",
            "Building wheels for collected packages: emoji\n",
            "  Building wheel for emoji (setup.py) ... \u001b[?25l\u001b[?25hdone\n",
            "  Created wheel for emoji: filename=emoji-1.7.0-py3-none-any.whl size=171033 sha256=82e62278afa2431ef425f4bf6000b5be7f7322d3162bc0f04759991b6f41dc77\n",
            "  Stored in directory: /root/.cache/pip/wheels/31/8a/8c/315c9e5d7773f74b33d5ed33f075b49c6eaeb7cedbb86e2cf8\n",
            "Successfully built emoji\n",
            "Installing collected packages: sentencepiece, python-crfsuite, emoji, sklearn-crfsuite, ftfy, bnlp_toolkit\n",
            "Successfully installed bnlp_toolkit-3.3.1 emoji-1.7.0 ftfy-6.1.1 python-crfsuite-0.9.9 sentencepiece-0.1.99 sklearn-crfsuite-0.3.6\n",
            "punkt not found. downloading...\n"
          ]
        },
        {
          "output_type": "stream",
          "name": "stderr",
          "text": [
            "[nltk_data] Downloading package punkt to /root/nltk_data...\n",
            "[nltk_data]   Unzipping tokenizers/punkt.zip.\n"
          ]
        },
        {
          "output_type": "stream",
          "name": "stdout",
          "text": [
            "fasttext not installed. Install it by 'pip install fasttext'\n"
          ]
        }
      ]
    },
    {
      "cell_type": "code",
      "source": [
        "# reading data\n",
        "\n",
        "data = pd.read_excel(\"/content/gdrive/MyDrive/Datasets/News Headlines.xlsx\", usecols=['Title', 'Category'])\n",
        "data.sample(10)"
      ],
      "metadata": {
        "colab": {
          "base_uri": "https://localhost:8080/",
          "height": 363
        },
        "id": "ZP2eupvKzjjD",
        "outputId": "421aa142-5987-42b4-9f40-2ff83028e7a7"
      },
      "execution_count": 45,
      "outputs": [
        {
          "output_type": "execute_result",
          "data": {
            "text/plain": [
              "                                                 Title             Category\n",
              "274  উচ্ছেদ করতে গিয়ে বাধার মুখে পুলিশ, মারধর করা হ...             Politics\n",
              "440  বৃষ্টি নামতে পারে রাজ্যে, তবে উত্তর ও দক্ষিণবঙ...  Climate/environment\n",
              "312  ‘কংগ্রেসকে ভোট দিয়েছি, বাসে টিকিট কাটব না’, অন...             Politics\n",
              "715  পোষ্য কুকুরকে নিয়ে অশান্তি! নাক গলানোয় একত্রবা...       Accident/Crime\n",
              "151  হঠাৎ বিদায়! মোহনবাগান ছেড়ে চলে গেলেন এই স্প্য...               Sports\n",
              "61   গুজরাতকে হারিয়ে সমর্থকদের তির জাডেজার! নতুন বি...               Sports\n",
              "511  এখনই যাচ্ছে না শীত! ৪৮ ঘণ্টায় রাজ্যে আরও কমতে ...  Climate/environment\n",
              "253  আল আকসা মসজিদ চত্বরে প্যালেস্তেনীয়দের সঙ্গে সং...             Politics\n",
              "917                 কোভিড জয়ের পথ দেখাবে কৃত্রিম মেধা!              Science\n",
              "216  জীবন-জীবিকার দাবিতে এক ছাতার তলায় আদিবাসীরা, ন...             Politics"
            ],
            "text/html": [
              "\n",
              "  <div id=\"df-888834e4-5007-426d-b1a6-f71c79333f6c\">\n",
              "    <div class=\"colab-df-container\">\n",
              "      <div>\n",
              "<style scoped>\n",
              "    .dataframe tbody tr th:only-of-type {\n",
              "        vertical-align: middle;\n",
              "    }\n",
              "\n",
              "    .dataframe tbody tr th {\n",
              "        vertical-align: top;\n",
              "    }\n",
              "\n",
              "    .dataframe thead th {\n",
              "        text-align: right;\n",
              "    }\n",
              "</style>\n",
              "<table border=\"1\" class=\"dataframe\">\n",
              "  <thead>\n",
              "    <tr style=\"text-align: right;\">\n",
              "      <th></th>\n",
              "      <th>Title</th>\n",
              "      <th>Category</th>\n",
              "    </tr>\n",
              "  </thead>\n",
              "  <tbody>\n",
              "    <tr>\n",
              "      <th>274</th>\n",
              "      <td>উচ্ছেদ করতে গিয়ে বাধার মুখে পুলিশ, মারধর করা হ...</td>\n",
              "      <td>Politics</td>\n",
              "    </tr>\n",
              "    <tr>\n",
              "      <th>440</th>\n",
              "      <td>বৃষ্টি নামতে পারে রাজ্যে, তবে উত্তর ও দক্ষিণবঙ...</td>\n",
              "      <td>Climate/environment</td>\n",
              "    </tr>\n",
              "    <tr>\n",
              "      <th>312</th>\n",
              "      <td>‘কংগ্রেসকে ভোট দিয়েছি, বাসে টিকিট কাটব না’, অন...</td>\n",
              "      <td>Politics</td>\n",
              "    </tr>\n",
              "    <tr>\n",
              "      <th>715</th>\n",
              "      <td>পোষ্য কুকুরকে নিয়ে অশান্তি! নাক গলানোয় একত্রবা...</td>\n",
              "      <td>Accident/Crime</td>\n",
              "    </tr>\n",
              "    <tr>\n",
              "      <th>151</th>\n",
              "      <td>হঠাৎ বিদায়! মোহনবাগান ছেড়ে চলে গেলেন এই স্প্য...</td>\n",
              "      <td>Sports</td>\n",
              "    </tr>\n",
              "    <tr>\n",
              "      <th>61</th>\n",
              "      <td>গুজরাতকে হারিয়ে সমর্থকদের তির জাডেজার! নতুন বি...</td>\n",
              "      <td>Sports</td>\n",
              "    </tr>\n",
              "    <tr>\n",
              "      <th>511</th>\n",
              "      <td>এখনই যাচ্ছে না শীত! ৪৮ ঘণ্টায় রাজ্যে আরও কমতে ...</td>\n",
              "      <td>Climate/environment</td>\n",
              "    </tr>\n",
              "    <tr>\n",
              "      <th>253</th>\n",
              "      <td>আল আকসা মসজিদ চত্বরে প্যালেস্তেনীয়দের সঙ্গে সং...</td>\n",
              "      <td>Politics</td>\n",
              "    </tr>\n",
              "    <tr>\n",
              "      <th>917</th>\n",
              "      <td>কোভিড জয়ের পথ দেখাবে কৃত্রিম মেধা!</td>\n",
              "      <td>Science</td>\n",
              "    </tr>\n",
              "    <tr>\n",
              "      <th>216</th>\n",
              "      <td>জীবন-জীবিকার দাবিতে এক ছাতার তলায় আদিবাসীরা, ন...</td>\n",
              "      <td>Politics</td>\n",
              "    </tr>\n",
              "  </tbody>\n",
              "</table>\n",
              "</div>\n",
              "      <button class=\"colab-df-convert\" onclick=\"convertToInteractive('df-888834e4-5007-426d-b1a6-f71c79333f6c')\"\n",
              "              title=\"Convert this dataframe to an interactive table.\"\n",
              "              style=\"display:none;\">\n",
              "        \n",
              "  <svg xmlns=\"http://www.w3.org/2000/svg\" height=\"24px\"viewBox=\"0 0 24 24\"\n",
              "       width=\"24px\">\n",
              "    <path d=\"M0 0h24v24H0V0z\" fill=\"none\"/>\n",
              "    <path d=\"M18.56 5.44l.94 2.06.94-2.06 2.06-.94-2.06-.94-.94-2.06-.94 2.06-2.06.94zm-11 1L8.5 8.5l.94-2.06 2.06-.94-2.06-.94L8.5 2.5l-.94 2.06-2.06.94zm10 10l.94 2.06.94-2.06 2.06-.94-2.06-.94-.94-2.06-.94 2.06-2.06.94z\"/><path d=\"M17.41 7.96l-1.37-1.37c-.4-.4-.92-.59-1.43-.59-.52 0-1.04.2-1.43.59L10.3 9.45l-7.72 7.72c-.78.78-.78 2.05 0 2.83L4 21.41c.39.39.9.59 1.41.59.51 0 1.02-.2 1.41-.59l7.78-7.78 2.81-2.81c.8-.78.8-2.07 0-2.86zM5.41 20L4 18.59l7.72-7.72 1.47 1.35L5.41 20z\"/>\n",
              "  </svg>\n",
              "      </button>\n",
              "      \n",
              "  <style>\n",
              "    .colab-df-container {\n",
              "      display:flex;\n",
              "      flex-wrap:wrap;\n",
              "      gap: 12px;\n",
              "    }\n",
              "\n",
              "    .colab-df-convert {\n",
              "      background-color: #E8F0FE;\n",
              "      border: none;\n",
              "      border-radius: 50%;\n",
              "      cursor: pointer;\n",
              "      display: none;\n",
              "      fill: #1967D2;\n",
              "      height: 32px;\n",
              "      padding: 0 0 0 0;\n",
              "      width: 32px;\n",
              "    }\n",
              "\n",
              "    .colab-df-convert:hover {\n",
              "      background-color: #E2EBFA;\n",
              "      box-shadow: 0px 1px 2px rgba(60, 64, 67, 0.3), 0px 1px 3px 1px rgba(60, 64, 67, 0.15);\n",
              "      fill: #174EA6;\n",
              "    }\n",
              "\n",
              "    [theme=dark] .colab-df-convert {\n",
              "      background-color: #3B4455;\n",
              "      fill: #D2E3FC;\n",
              "    }\n",
              "\n",
              "    [theme=dark] .colab-df-convert:hover {\n",
              "      background-color: #434B5C;\n",
              "      box-shadow: 0px 1px 3px 1px rgba(0, 0, 0, 0.15);\n",
              "      filter: drop-shadow(0px 1px 2px rgba(0, 0, 0, 0.3));\n",
              "      fill: #FFFFFF;\n",
              "    }\n",
              "  </style>\n",
              "\n",
              "      <script>\n",
              "        const buttonEl =\n",
              "          document.querySelector('#df-888834e4-5007-426d-b1a6-f71c79333f6c button.colab-df-convert');\n",
              "        buttonEl.style.display =\n",
              "          google.colab.kernel.accessAllowed ? 'block' : 'none';\n",
              "\n",
              "        async function convertToInteractive(key) {\n",
              "          const element = document.querySelector('#df-888834e4-5007-426d-b1a6-f71c79333f6c');\n",
              "          const dataTable =\n",
              "            await google.colab.kernel.invokeFunction('convertToInteractive',\n",
              "                                                     [key], {});\n",
              "          if (!dataTable) return;\n",
              "\n",
              "          const docLinkHtml = 'Like what you see? Visit the ' +\n",
              "            '<a target=\"_blank\" href=https://colab.research.google.com/notebooks/data_table.ipynb>data table notebook</a>'\n",
              "            + ' to learn more about interactive tables.';\n",
              "          element.innerHTML = '';\n",
              "          dataTable['output_type'] = 'display_data';\n",
              "          await google.colab.output.renderOutput(dataTable, element);\n",
              "          const docLink = document.createElement('div');\n",
              "          docLink.innerHTML = docLinkHtml;\n",
              "          element.appendChild(docLink);\n",
              "        }\n",
              "      </script>\n",
              "    </div>\n",
              "  </div>\n",
              "  "
            ]
          },
          "metadata": {},
          "execution_count": 45
        }
      ]
    },
    {
      "cell_type": "markdown",
      "source": [
        "Understanding the data"
      ],
      "metadata": {
        "id": "4Xjbb6zJKL-e"
      }
    },
    {
      "cell_type": "code",
      "source": [
        "data.shape"
      ],
      "metadata": {
        "colab": {
          "base_uri": "https://localhost:8080/"
        },
        "id": "tsHINL0rZg4p",
        "outputId": "d48c74b4-2a4f-41d0-c5f6-dbfcdc3084c4"
      },
      "execution_count": 5,
      "outputs": [
        {
          "output_type": "execute_result",
          "data": {
            "text/plain": [
              "(920, 2)"
            ]
          },
          "metadata": {},
          "execution_count": 5
        }
      ]
    },
    {
      "cell_type": "code",
      "source": [
        "# listing distinct categories of news\n",
        "\n",
        "for i in data['Category'].unique():\n",
        "  print(i)"
      ],
      "metadata": {
        "colab": {
          "base_uri": "https://localhost:8080/"
        },
        "id": "WhqfvZVvZ3tz",
        "outputId": "a1871a03-42df-4d2e-b306-8c37b0de2898"
      },
      "execution_count": 6,
      "outputs": [
        {
          "output_type": "stream",
          "name": "stdout",
          "text": [
            "Sports\n",
            "Politics\n",
            "Climate/environment\n",
            "Accident/Crime\n",
            "Science\n"
          ]
        }
      ]
    },
    {
      "cell_type": "code",
      "source": [
        "# checking missing values\n",
        "\n",
        "data.isnull().any()"
      ],
      "metadata": {
        "colab": {
          "base_uri": "https://localhost:8080/"
        },
        "id": "nEqEKsVxpgfE",
        "outputId": "a106f869-ffbd-49ad-f620-81e752f30e65"
      },
      "execution_count": 7,
      "outputs": [
        {
          "output_type": "execute_result",
          "data": {
            "text/plain": [
              "Title       False\n",
              "Category    False\n",
              "dtype: bool"
            ]
          },
          "metadata": {},
          "execution_count": 7
        }
      ]
    },
    {
      "cell_type": "code",
      "source": [
        "# checking if the data is balanced\n",
        "\n",
        "p = sns.countplot(data = data, x='Category', saturation=0.75, width=0.8)\n",
        "p.axes.set_title(\"Balance in Dataset\",fontsize=15)\n",
        "p.set_xlabel(\"Category\",fontsize=12)\n",
        "p.set_ylabel(\"Count\",fontsize=12)\n",
        "p.tick_params(labelsize=8)"
      ],
      "metadata": {
        "colab": {
          "base_uri": "https://localhost:8080/",
          "height": 474
        },
        "id": "n_qFU1Dwppke",
        "outputId": "99891134-7814-40de-933b-6442bb556e1e"
      },
      "execution_count": 42,
      "outputs": [
        {
          "output_type": "display_data",
          "data": {
            "text/plain": [
              "<Figure size 640x480 with 1 Axes>"
            ],
            "image/png": "[encoded data removed]"
          },
          "metadata": {}
        }
      ]
    },
    {
      "cell_type": "code",
      "source": [
        "# counting length of each headline string\n",
        "\n",
        "data['News_length'] = data['Title'].str.len()\n",
        "print(data['News_length'])"
      ],
      "metadata": {
        "colab": {
          "base_uri": "https://localhost:8080/"
        },
        "id": "Xl7QsSYsKiXL",
        "outputId": "b93d7375-7a15-4127-8f9f-9413f3d12368"
      },
      "execution_count": 9,
      "outputs": [
        {
          "output_type": "stream",
          "name": "stdout",
          "text": [
            "0      88\n",
            "1      80\n",
            "2      55\n",
            "3      81\n",
            "4      54\n",
            "       ..\n",
            "915    57\n",
            "916    78\n",
            "917    34\n",
            "918    49\n",
            "919    74\n",
            "Name: News_length, Length: 920, dtype: int64\n"
          ]
        }
      ]
    },
    {
      "cell_type": "code",
      "source": [
        "# plotting the distribution of length of headlines\n",
        "\n",
        "warnings.filterwarnings('ignore')\n",
        "sns.distplot(data['News_length'], color='green').set_title('Headline Length Distribution')"
      ],
      "metadata": {
        "colab": {
          "base_uri": "https://localhost:8080/",
          "height": 489
        },
        "id": "4v6C2xNuLIR-",
        "outputId": "3c0d2836-bc74-41dd-a8a1-a32b59bfecdf"
      },
      "execution_count": 34,
      "outputs": [
        {
          "output_type": "execute_result",
          "data": {
            "text/plain": [
              "Text(0.5, 1.0, 'Headline Length Distribution')"
            ]
          },
          "metadata": {},
          "execution_count": 34
        },
        {
          "output_type": "display_data",
          "data": {
            "text/plain": [
              "<Figure size 640x480 with 1 Axes>"
            ],
            "image/png": "[encoded data removed]"
          },
          "metadata": {}
        }
      ]
    },
    {
      "cell_type": "markdown",
      "source": [
        "Pre-processing the data"
      ],
      "metadata": {
        "id": "z1RgKYIxTwvF"
      }
    },
    {
      "cell_type": "code",
      "source": [
        "data['TitleCleaned'] = ''\n",
        "data['Category_target'] = data['Category']\n",
        "\n",
        "print(punctuations)"
      ],
      "metadata": {
        "colab": {
          "base_uri": "https://localhost:8080/"
        },
        "id": "V1imYZItlUdJ",
        "outputId": "8d6aad55-3b0a-49df-a499-ca2e35a5d87d"
      },
      "execution_count": 11,
      "outputs": [
        {
          "output_type": "stream",
          "name": "stdout",
          "text": [
            "!\"#$%&'()*+,-./:;<=>?@[\\]^_`{|}~।ঃ\n"
          ]
        }
      ]
    },
    {
      "cell_type": "code",
      "source": [
        "for i in range(len(data)):\n",
        "  cleaned = remove_stopwords(data['Title'][i], stopwords)   # removing stop words using bnltk corpus\n",
        "  for j in cleaned:   # removing punctuations\n",
        "    if j in punctuations:\n",
        "      cleaned.remove(j)\n",
        "\n",
        "  filtered_sentence = []    # join tokens back to form sentence\n",
        "  for w in cleaned: \n",
        "    filtered_sentence.append(w)\n",
        "  cleaned_sentence = \" \".join(filtered_sentence)\n",
        "\n",
        "  data['TitleCleaned'][i] = cleaned_sentence"
      ],
      "metadata": {
        "id": "0zoEoiCQd_ZK"
      },
      "execution_count": 12,
      "outputs": []
    },
    {
      "cell_type": "code",
      "source": [
        "# listing distinct categories of news\n",
        "\n",
        "data['Category_target'].replace(to_replace=['Sports', 'Politics', 'Climate/environment', 'Accident/Crime', 'Science'], value=[0, 1, 2, 3, 4], inplace=True)"
      ],
      "metadata": {
        "id": "WvzBSyt0p37z"
      },
      "execution_count": 13,
      "outputs": []
    },
    {
      "cell_type": "code",
      "source": [
        "data.sample(10)"
      ],
      "metadata": {
        "colab": {
          "base_uri": "https://localhost:8080/",
          "height": 363
        },
        "id": "5t_W9oT1i7-w",
        "outputId": "bed82b88-d134-4228-9d3d-b75470d01705"
      },
      "execution_count": 14,
      "outputs": [
        {
          "output_type": "execute_result",
          "data": {
            "text/plain": [
              "                                                 Title        Category  \\\n",
              "673  ব্যারাকপুর নয়, ডাকাতদের প্রথম ‘টার্গেট’ ছিল হা...  Accident/Crime   \n",
              "597     মানবাধিকার সংস্থার নাম লেখা বাইকে শিশুকে অপহরণ  Accident/Crime   \n",
              "100  ধোনিদের বিরুদ্ধে নতুন জার্সি পরে খেলতে নামবে স...          Sports   \n",
              "400  আসানসোল শিল্পাঞ্চলে ছ’টি কয়লাখনি চালু করার অন...        Politics   \n",
              "56   হার্দিক-ক্রুণাল লড়াই হচ্ছে না, লখনউকে হারিয়ে ...          Sports   \n",
              "108  কোহলিদের জয়ে চাপ বাড়ল কলকাতার! এখনও কোন অঙ্কে...          Sports   \n",
              "632  মালবোঝাই ট্রাক পিষে দিল মহিলাকে, মেদিনীপুরে বা...  Accident/Crime   \n",
              "328  ২৭ মে নীতি আয়োগের বৈঠকে দিল্লি যাবেন মুখ্যমন্ত...        Politics   \n",
              "879  রাশিয়া-ইউক্রেন যুদ্ধের জেরে কি আরও অনিশ্চিত হয়...         Science   \n",
              "179  রোনাল্ডো ‘প্রতারক’! ক্লাব সভাপতির তোপের জবাব প...          Sports   \n",
              "\n",
              "     News_length                                       TitleCleaned  \\\n",
              "673           89  ব্যারাকপুর ডাকাতদের ‘ টার্গেট ’ হাওড়ার গয়নার ...   \n",
              "597           46     মানবাধিকার সংস্থার নাম লেখা বাইকে শিশুকে অপহরণ   \n",
              "100           68  ধোনিদের বিরুদ্ধে জার্সি খেলতে নামবে সৌরভের দিল...   \n",
              "400           72  আসানসোল শিল্পাঞ্চলে ছ ’ কয়লাখনি অনুমোদন দিল র...   \n",
              "56            82  হার্দিক ক্রুণাল লড়াই লখনউকে হারিয়ে আইপিএলে খে...   \n",
              "108           80  কোহলিদের জয়ে চাপ বাড়ল কলকাতার অঙ্কে প্লে অফে ...   \n",
              "632           78  মালবোঝাই ট্রাক পিষে দিল মহিলাকে মেদিনীপুরে বাই...   \n",
              "328           69  ২৭ মে নীতি আয়োগের বৈঠকে দিল্লি যাবেন মুখ্যমন্ত...   \n",
              "879           77  রাশিয়া ইউক্রেন যুদ্ধের জেরে অনিশ্চিত হয়ে পড়ল ...   \n",
              "179           68  রোনাল্ডো ‘ প্রতারক ’ ক্লাব সভাপতির তোপের জবাব ...   \n",
              "\n",
              "     Category_target  \n",
              "673                3  \n",
              "597                3  \n",
              "100                0  \n",
              "400                1  \n",
              "56                 0  \n",
              "108                0  \n",
              "632                3  \n",
              "328                1  \n",
              "879                4  \n",
              "179                0  "
            ],
            "text/html": [
              "\n",
              "  <div id=\"df-983e79d5-83fe-4041-852d-3efe63a0f4ca\">\n",
              "    <div class=\"colab-df-container\">\n",
              "      <div>\n",
              "<style scoped>\n",
              "    .dataframe tbody tr th:only-of-type {\n",
              "        vertical-align: middle;\n",
              "    }\n",
              "\n",
              "    .dataframe tbody tr th {\n",
              "        vertical-align: top;\n",
              "    }\n",
              "\n",
              "    .dataframe thead th {\n",
              "        text-align: right;\n",
              "    }\n",
              "</style>\n",
              "<table border=\"1\" class=\"dataframe\">\n",
              "  <thead>\n",
              "    <tr style=\"text-align: right;\">\n",
              "      <th></th>\n",
              "      <th>Title</th>\n",
              "      <th>Category</th>\n",
              "      <th>News_length</th>\n",
              "      <th>TitleCleaned</th>\n",
              "      <th>Category_target</th>\n",
              "    </tr>\n",
              "  </thead>\n",
              "  <tbody>\n",
              "    <tr>\n",
              "      <th>673</th>\n",
              "      <td>ব্যারাকপুর নয়, ডাকাতদের প্রথম ‘টার্গেট’ ছিল হা...</td>\n",
              "      <td>Accident/Crime</td>\n",
              "      <td>89</td>\n",
              "      <td>ব্যারাকপুর ডাকাতদের ‘ টার্গেট ’ হাওড়ার গয়নার ...</td>\n",
              "      <td>3</td>\n",
              "    </tr>\n",
              "    <tr>\n",
              "      <th>597</th>\n",
              "      <td>মানবাধিকার সংস্থার নাম লেখা বাইকে শিশুকে অপহরণ</td>\n",
              "      <td>Accident/Crime</td>\n",
              "      <td>46</td>\n",
              "      <td>মানবাধিকার সংস্থার নাম লেখা বাইকে শিশুকে অপহরণ</td>\n",
              "      <td>3</td>\n",
              "    </tr>\n",
              "    <tr>\n",
              "      <th>100</th>\n",
              "      <td>ধোনিদের বিরুদ্ধে নতুন জার্সি পরে খেলতে নামবে স...</td>\n",
              "      <td>Sports</td>\n",
              "      <td>68</td>\n",
              "      <td>ধোনিদের বিরুদ্ধে জার্সি খেলতে নামবে সৌরভের দিল...</td>\n",
              "      <td>0</td>\n",
              "    </tr>\n",
              "    <tr>\n",
              "      <th>400</th>\n",
              "      <td>আসানসোল শিল্পাঞ্চলে ছ’টি কয়লাখনি চালু করার অন...</td>\n",
              "      <td>Politics</td>\n",
              "      <td>72</td>\n",
              "      <td>আসানসোল শিল্পাঞ্চলে ছ ’ কয়লাখনি অনুমোদন দিল র...</td>\n",
              "      <td>1</td>\n",
              "    </tr>\n",
              "    <tr>\n",
              "      <th>56</th>\n",
              "      <td>হার্দিক-ক্রুণাল লড়াই হচ্ছে না, লখনউকে হারিয়ে ...</td>\n",
              "      <td>Sports</td>\n",
              "      <td>82</td>\n",
              "      <td>হার্দিক ক্রুণাল লড়াই লখনউকে হারিয়ে আইপিএলে খে...</td>\n",
              "      <td>0</td>\n",
              "    </tr>\n",
              "    <tr>\n",
              "      <th>108</th>\n",
              "      <td>কোহলিদের জয়ে চাপ বাড়ল কলকাতার! এখনও কোন অঙ্কে...</td>\n",
              "      <td>Sports</td>\n",
              "      <td>80</td>\n",
              "      <td>কোহলিদের জয়ে চাপ বাড়ল কলকাতার অঙ্কে প্লে অফে ...</td>\n",
              "      <td>0</td>\n",
              "    </tr>\n",
              "    <tr>\n",
              "      <th>632</th>\n",
              "      <td>মালবোঝাই ট্রাক পিষে দিল মহিলাকে, মেদিনীপুরে বা...</td>\n",
              "      <td>Accident/Crime</td>\n",
              "      <td>78</td>\n",
              "      <td>মালবোঝাই ট্রাক পিষে দিল মহিলাকে মেদিনীপুরে বাই...</td>\n",
              "      <td>3</td>\n",
              "    </tr>\n",
              "    <tr>\n",
              "      <th>328</th>\n",
              "      <td>২৭ মে নীতি আয়োগের বৈঠকে দিল্লি যাবেন মুখ্যমন্ত...</td>\n",
              "      <td>Politics</td>\n",
              "      <td>69</td>\n",
              "      <td>২৭ মে নীতি আয়োগের বৈঠকে দিল্লি যাবেন মুখ্যমন্ত...</td>\n",
              "      <td>1</td>\n",
              "    </tr>\n",
              "    <tr>\n",
              "      <th>879</th>\n",
              "      <td>রাশিয়া-ইউক্রেন যুদ্ধের জেরে কি আরও অনিশ্চিত হয়...</td>\n",
              "      <td>Science</td>\n",
              "      <td>77</td>\n",
              "      <td>রাশিয়া ইউক্রেন যুদ্ধের জেরে অনিশ্চিত হয়ে পড়ল ...</td>\n",
              "      <td>4</td>\n",
              "    </tr>\n",
              "    <tr>\n",
              "      <th>179</th>\n",
              "      <td>রোনাল্ডো ‘প্রতারক’! ক্লাব সভাপতির তোপের জবাব প...</td>\n",
              "      <td>Sports</td>\n",
              "      <td>68</td>\n",
              "      <td>রোনাল্ডো ‘ প্রতারক ’ ক্লাব সভাপতির তোপের জবাব ...</td>\n",
              "      <td>0</td>\n",
              "    </tr>\n",
              "  </tbody>\n",
              "</table>\n",
              "</div>\n",
              "      <button class=\"colab-df-convert\" onclick=\"convertToInteractive('df-983e79d5-83fe-4041-852d-3efe63a0f4ca')\"\n",
              "              title=\"Convert this dataframe to an interactive table.\"\n",
              "              style=\"display:none;\">\n",
              "        \n",
              "  <svg xmlns=\"http://www.w3.org/2000/svg\" height=\"24px\"viewBox=\"0 0 24 24\"\n",
              "       width=\"24px\">\n",
              "    <path d=\"M0 0h24v24H0V0z\" fill=\"none\"/>\n",
              "    <path d=\"M18.56 5.44l.94 2.06.94-2.06 2.06-.94-2.06-.94-.94-2.06-.94 2.06-2.06.94zm-11 1L8.5 8.5l.94-2.06 2.06-.94-2.06-.94L8.5 2.5l-.94 2.06-2.06.94zm10 10l.94 2.06.94-2.06 2.06-.94-2.06-.94-.94-2.06-.94 2.06-2.06.94z\"/><path d=\"M17.41 7.96l-1.37-1.37c-.4-.4-.92-.59-1.43-.59-.52 0-1.04.2-1.43.59L10.3 9.45l-7.72 7.72c-.78.78-.78 2.05 0 2.83L4 21.41c.39.39.9.59 1.41.59.51 0 1.02-.2 1.41-.59l7.78-7.78 2.81-2.81c.8-.78.8-2.07 0-2.86zM5.41 20L4 18.59l7.72-7.72 1.47 1.35L5.41 20z\"/>\n",
              "  </svg>\n",
              "      </button>\n",
              "      \n",
              "  <style>\n",
              "    .colab-df-container {\n",
              "      display:flex;\n",
              "      flex-wrap:wrap;\n",
              "      gap: 12px;\n",
              "    }\n",
              "\n",
              "    .colab-df-convert {\n",
              "      background-color: #E8F0FE;\n",
              "      border: none;\n",
              "      border-radius: 50%;\n",
              "      cursor: pointer;\n",
              "      display: none;\n",
              "      fill: #1967D2;\n",
              "      height: 32px;\n",
              "      padding: 0 0 0 0;\n",
              "      width: 32px;\n",
              "    }\n",
              "\n",
              "    .colab-df-convert:hover {\n",
              "      background-color: #E2EBFA;\n",
              "      box-shadow: 0px 1px 2px rgba(60, 64, 67, 0.3), 0px 1px 3px 1px rgba(60, 64, 67, 0.15);\n",
              "      fill: #174EA6;\n",
              "    }\n",
              "\n",
              "    [theme=dark] .colab-df-convert {\n",
              "      background-color: #3B4455;\n",
              "      fill: #D2E3FC;\n",
              "    }\n",
              "\n",
              "    [theme=dark] .colab-df-convert:hover {\n",
              "      background-color: #434B5C;\n",
              "      box-shadow: 0px 1px 3px 1px rgba(0, 0, 0, 0.15);\n",
              "      filter: drop-shadow(0px 1px 2px rgba(0, 0, 0, 0.3));\n",
              "      fill: #FFFFFF;\n",
              "    }\n",
              "  </style>\n",
              "\n",
              "      <script>\n",
              "        const buttonEl =\n",
              "          document.querySelector('#df-983e79d5-83fe-4041-852d-3efe63a0f4ca button.colab-df-convert');\n",
              "        buttonEl.style.display =\n",
              "          google.colab.kernel.accessAllowed ? 'block' : 'none';\n",
              "\n",
              "        async function convertToInteractive(key) {\n",
              "          const element = document.querySelector('#df-983e79d5-83fe-4041-852d-3efe63a0f4ca');\n",
              "          const dataTable =\n",
              "            await google.colab.kernel.invokeFunction('convertToInteractive',\n",
              "                                                     [key], {});\n",
              "          if (!dataTable) return;\n",
              "\n",
              "          const docLinkHtml = 'Like what you see? Visit the ' +\n",
              "            '<a target=\"_blank\" href=https://colab.research.google.com/notebooks/data_table.ipynb>data table notebook</a>'\n",
              "            + ' to learn more about interactive tables.';\n",
              "          element.innerHTML = '';\n",
              "          dataTable['output_type'] = 'display_data';\n",
              "          await google.colab.output.renderOutput(dataTable, element);\n",
              "          const docLink = document.createElement('div');\n",
              "          docLink.innerHTML = docLinkHtml;\n",
              "          element.appendChild(docLink);\n",
              "        }\n",
              "      </script>\n",
              "    </div>\n",
              "  </div>\n",
              "  "
            ]
          },
          "metadata": {},
          "execution_count": 14
        }
      ]
    },
    {
      "cell_type": "markdown",
      "source": [
        "Split the data in training and testing sets"
      ],
      "metadata": {
        "id": "12m100fBt8lH"
      }
    },
    {
      "cell_type": "code",
      "source": [
        "X_train, X_test, y_train, y_test = train_test_split(data['Title'], \n",
        "                                                    data['Category_target'], \n",
        "                                                    test_size=0.2, \n",
        "                                                    random_state=8)"
      ],
      "metadata": {
        "id": "J2s1KAP_t_Mm"
      },
      "execution_count": 15,
      "outputs": []
    },
    {
      "cell_type": "code",
      "source": [
        "ngram_range = (1,2)"
      ],
      "metadata": {
        "id": "QD2JDx-BuDNh"
      },
      "execution_count": 16,
      "outputs": []
    },
    {
      "cell_type": "markdown",
      "source": [
        "TF-IDF Vectorization"
      ],
      "metadata": {
        "id": "jA6FTKm26c85"
      }
    },
    {
      "cell_type": "code",
      "source": [
        "tfidf = TfidfVectorizer(ngram_range=ngram_range,use_idf=True,tokenizer=lambda x: x.split()) \n",
        "X = tfidf.fit_transform(data['Title'])"
      ],
      "metadata": {
        "id": "EYP3KRlvixip"
      },
      "execution_count": 17,
      "outputs": []
    },
    {
      "cell_type": "code",
      "source": [
        "features_train = tfidf.fit_transform(X_train).toarray()\n",
        "labels_train = y_train\n",
        "print(features_train)\n",
        "print(features_train.shape)"
      ],
      "metadata": {
        "colab": {
          "base_uri": "https://localhost:8080/"
        },
        "id": "DITmiRaxjCq_",
        "outputId": "a50e6931-9352-45a2-cb87-ada527c208ff"
      },
      "execution_count": 18,
      "outputs": [
        {
          "output_type": "stream",
          "name": "stdout",
          "text": [
            "[[0. 0. 0. ... 0. 0. 0.]\n",
            " [0. 0. 0. ... 0. 0. 0.]\n",
            " [0. 0. 0. ... 0. 0. 0.]\n",
            " ...\n",
            " [0. 0. 0. ... 0. 0. 0.]\n",
            " [0. 0. 0. ... 0. 0. 0.]\n",
            " [0. 0. 0. ... 0. 0. 0.]]\n",
            "(736, 10828)\n"
          ]
        }
      ]
    },
    {
      "cell_type": "code",
      "source": [
        "features_test = tfidf.transform(X_test).toarray()\n",
        "labels_test = y_test\n",
        "print(features_test)\n",
        "print(features_test.shape)"
      ],
      "metadata": {
        "colab": {
          "base_uri": "https://localhost:8080/"
        },
        "id": "g9MdZdsFNRiV",
        "outputId": "6fd66dc3-5767-48f1-f006-3a4cb13aa3b4"
      },
      "execution_count": 19,
      "outputs": [
        {
          "output_type": "stream",
          "name": "stdout",
          "text": [
            "[[0. 0. 0. ... 0. 0. 0.]\n",
            " [0. 0. 0. ... 0. 0. 0.]\n",
            " [0. 0. 0. ... 0. 0. 0.]\n",
            " ...\n",
            " [0. 0. 0. ... 0. 0. 0.]\n",
            " [0. 0. 0. ... 0. 0. 0.]\n",
            " [0. 0. 0. ... 0. 0. 0.]]\n",
            "(184, 10828)\n"
          ]
        }
      ]
    },
    {
      "cell_type": "markdown",
      "source": [
        "Applying ML Models"
      ],
      "metadata": {
        "id": "l6rCQEG0NkES"
      }
    },
    {
      "cell_type": "code",
      "source": [
        "from sklearn.ensemble import RandomForestClassifier\n",
        "from sklearn.linear_model import LogisticRegression\n",
        "from sklearn.tree import DecisionTreeClassifier\n",
        "from sklearn.neighbors import KNeighborsClassifier\n",
        "from sklearn.discriminant_analysis import LinearDiscriminantAnalysis\n",
        "from sklearn.naive_bayes import GaussianNB\n",
        "from sklearn.svm import SVC"
      ],
      "metadata": {
        "id": "lp6cAG9CE1j_"
      },
      "execution_count": 20,
      "outputs": []
    },
    {
      "cell_type": "code",
      "source": [
        "accuracy = {}"
      ],
      "metadata": {
        "id": "_5_i8OMB7E-u"
      },
      "execution_count": 69,
      "outputs": []
    },
    {
      "cell_type": "markdown",
      "source": [
        "Random Forest"
      ],
      "metadata": {
        "id": "PloJsaFMaYes"
      }
    },
    {
      "cell_type": "code",
      "source": [
        "model  = RandomForestClassifier(random_state=1)\n",
        "model.fit(features_train, labels_train)\n",
        "model_predictions = model.predict(features_test)\n",
        "print('Accuracy: ', accuracy_score(labels_test, model_predictions))\n",
        "print(classification_report(labels_test, model_predictions))"
      ],
      "metadata": {
        "colab": {
          "base_uri": "https://localhost:8080/"
        },
        "id": "wS4KvgJeNkel",
        "outputId": "3269e0a7-d161-4b7d-cf40-57ae678c7f7b"
      },
      "execution_count": 27,
      "outputs": [
        {
          "output_type": "stream",
          "name": "stdout",
          "text": [
            "Accuracy:  0.6684782608695652\n",
            "              precision    recall  f1-score   support\n",
            "\n",
            "           0       0.84      0.51      0.64        41\n",
            "           1       0.42      0.93      0.58        41\n",
            "           2       0.95      0.70      0.81        27\n",
            "           3       0.87      0.65      0.74        31\n",
            "           4       1.00      0.57      0.72        44\n",
            "\n",
            "    accuracy                           0.67       184\n",
            "   macro avg       0.82      0.67      0.70       184\n",
            "weighted avg       0.81      0.67      0.69       184\n",
            "\n"
          ]
        }
      ]
    },
    {
      "cell_type": "code",
      "source": [
        "model.get_params()"
      ],
      "metadata": {
        "colab": {
          "base_uri": "https://localhost:8080/"
        },
        "id": "S3T8pgzRG75j",
        "outputId": "59bb58b2-3e06-4f1b-fb40-63a4d6b657db"
      },
      "execution_count": 28,
      "outputs": [
        {
          "output_type": "execute_result",
          "data": {
            "text/plain": [
              "{'bootstrap': True,\n",
              " 'ccp_alpha': 0.0,\n",
              " 'class_weight': None,\n",
              " 'criterion': 'gini',\n",
              " 'max_depth': None,\n",
              " 'max_features': 'sqrt',\n",
              " 'max_leaf_nodes': None,\n",
              " 'max_samples': None,\n",
              " 'min_impurity_decrease': 0.0,\n",
              " 'min_samples_leaf': 1,\n",
              " 'min_samples_split': 2,\n",
              " 'min_weight_fraction_leaf': 0.0,\n",
              " 'n_estimators': 100,\n",
              " 'n_jobs': None,\n",
              " 'oob_score': False,\n",
              " 'random_state': 1,\n",
              " 'verbose': 0,\n",
              " 'warm_start': False}"
            ]
          },
          "metadata": {},
          "execution_count": 28
        }
      ]
    },
    {
      "cell_type": "code",
      "source": [
        "from sklearn.model_selection import GridSearchCV\n",
        "n_estimators = [100, 300, 500, 800, 1200]\n",
        "max_depth = [5, 8, 15, 25, 30]\n",
        "min_samples_split = [2, 5, 10, 15, 100]\n",
        "min_samples_leaf = [1, 2, 5, 10] \n",
        "\n",
        "hyperF = dict(n_estimators = n_estimators, max_depth = max_depth,  \n",
        "              min_samples_split = min_samples_split, \n",
        "             min_samples_leaf = min_samples_leaf)\n",
        "\n",
        "gridF = GridSearchCV(model, hyperF, cv = 3, verbose = 1, \n",
        "                      n_jobs = -1)\n",
        "bestF = gridF.fit(features_train, labels_train)"
      ],
      "metadata": {
        "colab": {
          "base_uri": "https://localhost:8080/"
        },
        "id": "24CwzTObHAGo",
        "outputId": "81a329ef-f34a-4945-d004-89152eebd8ab"
      },
      "execution_count": 29,
      "outputs": [
        {
          "metadata": {
            "tags": null
          },
          "name": "stdout",
          "output_type": "stream",
          "text": [
            "Fitting 3 folds for each of 500 candidates, totalling 1500 fits\n"
          ]
        }
      ]
    },
    {
      "cell_type": "code",
      "source": [
        "bestF.best_params_"
      ],
      "metadata": {
        "colab": {
          "base_uri": "https://localhost:8080/"
        },
        "id": "ZkqCTxquHO02",
        "outputId": "6ee0499e-7a9b-4d82-95ef-1aa3e5d28bb7"
      },
      "execution_count": 30,
      "outputs": [
        {
          "data": {
            "text/plain": [
              "{'max_depth': 30,\n",
              " 'min_samples_leaf': 2,\n",
              " 'min_samples_split': 2,\n",
              " 'n_estimators': 1200}"
            ]
          },
          "execution_count": 30,
          "metadata": {},
          "output_type": "execute_result"
        }
      ]
    },
    {
      "cell_type": "code",
      "source": [
        "model1  = RandomForestClassifier(random_state=1,max_depth= 30, min_samples_leaf= 1, min_samples_split= 2, n_estimators= 100)\n",
        "model1.fit(features_train, labels_train)\n",
        "model_predictions = model1.predict(features_test)\n",
        "print('Accuracy: ', accuracy_score(labels_test, model_predictions))\n",
        "print(classification_report(labels_test, model_predictions))"
      ],
      "metadata": {
        "colab": {
          "base_uri": "https://localhost:8080/"
        },
        "id": "KA7F_3awIY-M",
        "outputId": "136d502c-95de-4273-9633-54c2c171a2d8"
      },
      "execution_count": 31,
      "outputs": [
        {
          "output_type": "stream",
          "name": "stdout",
          "text": [
            "Accuracy:  0.7391304347826086\n",
            "              precision    recall  f1-score   support\n",
            "\n",
            "           0       0.83      0.73      0.78        41\n",
            "           1       0.49      0.93      0.64        41\n",
            "           2       0.95      0.74      0.83        27\n",
            "           3       0.91      0.68      0.78        31\n",
            "           4       1.00      0.61      0.76        44\n",
            "\n",
            "    accuracy                           0.74       184\n",
            "   macro avg       0.84      0.74      0.76       184\n",
            "weighted avg       0.83      0.74      0.75       184\n",
            "\n"
          ]
        }
      ]
    },
    {
      "cell_type": "code",
      "source": [
        "#accuracy.append(accuracy_score(labels_test, model_predictions))\n",
        "accuracy['Random Forest'] = 0.7391304347826086"
      ],
      "metadata": {
        "id": "AaCFvkkO702D"
      },
      "execution_count": 70,
      "outputs": []
    },
    {
      "cell_type": "markdown",
      "source": [
        "Logistic Regression"
      ],
      "metadata": {
        "id": "RhnU97OfacW9"
      }
    },
    {
      "cell_type": "code",
      "source": [
        "model = LogisticRegression()\n",
        "print(model.get_params())\n",
        "model.fit(features_train, labels_train)\n",
        "model_predictions = model.predict(features_test)\n",
        "print('Accuracy: ', accuracy_score(labels_test, model_predictions))\n",
        "print(classification_report(labels_test, model_predictions))"
      ],
      "metadata": {
        "colab": {
          "base_uri": "https://localhost:8080/"
        },
        "id": "QyBJwltMErIo",
        "outputId": "4bb97f38-8e97-46a4-ce0a-05111f80da1d"
      },
      "execution_count": 91,
      "outputs": [
        {
          "output_type": "stream",
          "name": "stdout",
          "text": [
            "{'C': 1.0, 'class_weight': None, 'dual': False, 'fit_intercept': True, 'intercept_scaling': 1, 'l1_ratio': None, 'max_iter': 100, 'multi_class': 'auto', 'n_jobs': None, 'penalty': 'l2', 'random_state': None, 'solver': 'lbfgs', 'tol': 0.0001, 'verbose': 0, 'warm_start': False}\n",
            "Accuracy:  0.8804347826086957\n",
            "              precision    recall  f1-score   support\n",
            "\n",
            "           0       0.91      0.95      0.93        41\n",
            "           1       0.79      0.93      0.85        41\n",
            "           2       0.89      0.89      0.89        27\n",
            "           3       0.92      0.71      0.80        31\n",
            "           4       0.93      0.89      0.91        44\n",
            "\n",
            "    accuracy                           0.88       184\n",
            "   macro avg       0.89      0.87      0.88       184\n",
            "weighted avg       0.89      0.88      0.88       184\n",
            "\n"
          ]
        }
      ]
    },
    {
      "cell_type": "code",
      "source": [
        "accuracy['Logistic Regression'] = accuracy_score(labels_test, model_predictions)"
      ],
      "metadata": {
        "id": "V8XhZ5D38I9m"
      },
      "execution_count": 72,
      "outputs": []
    },
    {
      "cell_type": "markdown",
      "source": [
        "KNN"
      ],
      "metadata": {
        "id": "OE2Qebw5ag4E"
      }
    },
    {
      "cell_type": "code",
      "source": [
        "model = KNeighborsClassifier()\n",
        "model.fit(features_train, labels_train)\n",
        "model_predictions = model.predict(features_test)\n",
        "print('Accuracy: ', accuracy_score(labels_test, model_predictions))\n",
        "print(classification_report(labels_test, model_predictions))"
      ],
      "metadata": {
        "colab": {
          "base_uri": "https://localhost:8080/"
        },
        "id": "rTn24ZueP-gk",
        "outputId": "488c814f-1702-465d-c019-1b345b5298b5"
      },
      "execution_count": 74,
      "outputs": [
        {
          "output_type": "stream",
          "name": "stdout",
          "text": [
            "Accuracy:  0.782608695652174\n",
            "              precision    recall  f1-score   support\n",
            "\n",
            "           0       0.79      0.93      0.85        41\n",
            "           1       0.74      0.68      0.71        41\n",
            "           2       0.67      0.89      0.76        27\n",
            "           3       0.89      0.77      0.83        31\n",
            "           4       0.86      0.68      0.76        44\n",
            "\n",
            "    accuracy                           0.78       184\n",
            "   macro avg       0.79      0.79      0.78       184\n",
            "weighted avg       0.79      0.78      0.78       184\n",
            "\n"
          ]
        }
      ]
    },
    {
      "cell_type": "code",
      "source": [
        "accuracy['KNN'] = accuracy_score(labels_test, model_predictions)"
      ],
      "metadata": {
        "id": "_e2_4mQD8Tzx"
      },
      "execution_count": 75,
      "outputs": []
    },
    {
      "cell_type": "markdown",
      "source": [
        "Decision Tree"
      ],
      "metadata": {
        "id": "NCYgqx5WajPL"
      }
    },
    {
      "cell_type": "code",
      "source": [
        "model = DecisionTreeClassifier(random_state=1)\n",
        "model.fit(features_train, labels_train)\n",
        "model_predictions = model.predict(features_test)\n",
        "print('Accuracy: ', accuracy_score(labels_test, model_predictions))\n",
        "print(classification_report(labels_test, model_predictions))"
      ],
      "metadata": {
        "colab": {
          "base_uri": "https://localhost:8080/"
        },
        "id": "CvNSOXXmQKE2",
        "outputId": "c416e7c4-1065-44e9-f581-1bba73c0d217"
      },
      "execution_count": 76,
      "outputs": [
        {
          "output_type": "stream",
          "name": "stdout",
          "text": [
            "Accuracy:  0.6521739130434783\n",
            "              precision    recall  f1-score   support\n",
            "\n",
            "           0       0.73      0.54      0.62        41\n",
            "           1       0.45      0.59      0.51        41\n",
            "           2       0.71      0.74      0.73        27\n",
            "           3       0.72      0.74      0.73        31\n",
            "           4       0.76      0.70      0.73        44\n",
            "\n",
            "    accuracy                           0.65       184\n",
            "   macro avg       0.68      0.66      0.66       184\n",
            "weighted avg       0.67      0.65      0.66       184\n",
            "\n"
          ]
        }
      ]
    },
    {
      "cell_type": "code",
      "source": [
        "accuracy['Decision Tree'] = accuracy_score(labels_test, model_predictions)"
      ],
      "metadata": {
        "id": "Ly8P2SXq8X2Z"
      },
      "execution_count": 77,
      "outputs": []
    },
    {
      "cell_type": "code",
      "source": [
        "accuracy"
      ],
      "metadata": {
        "colab": {
          "base_uri": "https://localhost:8080/"
        },
        "id": "aCsvo8IM8cQC",
        "outputId": "41251a4e-773f-408a-fa23-9eeccf7bc230"
      },
      "execution_count": 78,
      "outputs": [
        {
          "output_type": "execute_result",
          "data": {
            "text/plain": [
              "{'Random Forest': 0.7391304347826086,\n",
              " 'Logistic Regression': 0.8804347826086957,\n",
              " 'KNN': 0.782608695652174,\n",
              " 'Decision Tree': 0.6521739130434783}"
            ]
          },
          "metadata": {},
          "execution_count": 78
        }
      ]
    },
    {
      "cell_type": "markdown",
      "source": [
        "Plotting accuracy"
      ],
      "metadata": {
        "id": "nffMmoAMD5t3"
      }
    },
    {
      "cell_type": "code",
      "source": [
        "x = accuracy.keys()\n",
        "y = accuracy.values()\n",
        "plt.plot(x, y, marker='o', c='r')\n",
        "\n",
        "plt.title('Performance of ML Models')\n",
        "plt.show()"
      ],
      "metadata": {
        "colab": {
          "base_uri": "https://localhost:8080/",
          "height": 452
        },
        "id": "mHFDpck_8eAj",
        "outputId": "ed2ad8df-9689-432d-98d3-478d386843dc"
      },
      "execution_count": 90,
      "outputs": [
        {
          "output_type": "display_data",
          "data": {
            "text/plain": [
              "<Figure size 640x480 with 1 Axes>"
            ],
            "image/png": "[encoded data removed]"
          },
          "metadata": {}
        }
      ]
    },
    {
      "cell_type": "markdown",
      "source": [
        "Testing with unseen headlines"
      ],
      "metadata": {
        "id": "0YpHOUMmbYFi"
      }
    },
    {
      "cell_type": "code",
      "source": [
        "unseen_data = ['আইপিএল ফাইনাল শুরু হবে, ১৫ ওভারের খেলা, জিততে গেলে কত তুলতে হবে ধোনিদের?',    # IPL/Final\n",
        "               'আইপিএল ফাইনাল সুপার ওভারে গড়ালে ক’টার মধ্যে শুরু করতে হবে, নিয়ম কী?',     # IPL/Final\n",
        "               'দক্ষিণে ঊর্ধ্বমুখী পারদ, পশ্চিমের জেলায় তাপমাত্রা পৌঁছতে পারে ৪০ ডিগ্রির আশপাশে, বৃষ্টি কি হবে?',   # Weather Forecast\n",
        "               'দূষণ রোধে রেলকে চিঠি দেবে পর্ষদ',   # Pollution\n",
        "               'জম্মু-কাশ্মীরে আবার খুন! হাসপাতালের সামনেই সার্কাসকর্মীকে গুলি করে হত্যা করল জঙ্গিরা',    # Murder/gunshots\n",
        "               'কর্নাটক জয়ে উজ্জীবিত কংগ্রেস, মধ্যপ্রদেশে কত আসন পাবে দল? বৈঠক শেষে কী দাবি রাহুলের']   # Karnataka/Congress"
      ],
      "metadata": {
        "id": "3Q6FD8moFMCi"
      },
      "execution_count": 153,
      "outputs": []
    },
    {
      "cell_type": "code",
      "source": [
        "for i in range(len(unseen_data)):\n",
        "  cleaned = remove_stopwords(unseen_data[i], stopwords)   # removing stop words using bnltk corpus\n",
        "  for j in cleaned:   # removing punctuations\n",
        "    if j in punctuations:\n",
        "      cleaned.remove(j)\n",
        "\n",
        "  filtered_sentence = []    # join tokens back to form sentence\n",
        "  for w in cleaned: \n",
        "    filtered_sentence.append(w)\n",
        "  cleaned_sentence = \" \".join(filtered_sentence)\n",
        "\n",
        "  unseen_data[i] = cleaned_sentence"
      ],
      "metadata": {
        "id": "NU6lkTQOFo9f"
      },
      "execution_count": 154,
      "outputs": []
    },
    {
      "cell_type": "code",
      "source": [
        "features_unseen = tfidf.transform(unseen_data).toarray()"
      ],
      "metadata": {
        "id": "V4T3WMmxGHs0"
      },
      "execution_count": 155,
      "outputs": []
    },
    {
      "cell_type": "code",
      "source": [
        "model.predict(features_unseen)"
      ],
      "metadata": {
        "colab": {
          "base_uri": "https://localhost:8080/"
        },
        "id": "ZX2gHo1iQZRb",
        "outputId": "41664535-c92a-4783-91fc-7c0ec484c263"
      },
      "execution_count": 156,
      "outputs": [
        {
          "output_type": "execute_result",
          "data": {
            "text/plain": [
              "array([0, 0, 2, 2, 3, 1])"
            ]
          },
          "metadata": {},
          "execution_count": 156
        }
      ]
    },
    {
      "cell_type": "markdown",
      "source": [
        "0 - Sports; 1 - Politics; 2 - Climate/Environment; 3 - Accident/Crime; 4 - Science"
      ],
      "metadata": {
        "id": "kEKKvuKzHTH6"
      }
    },
    {
      "cell_type": "markdown",
      "source": [
        "Confusion"
      ],
      "metadata": {
        "id": "WiJdIJQcL08Y"
      }
    },
    {
      "cell_type": "code",
      "source": [
        "data1 = ['বিজেপি নেত্রীকে পাথর মেরে খুন! পালাগানের পেশাদার শিল্পীও ছিলেন তিনি',    # BJP/murder\n",
        "         'বৃষ্টিতে বন্ধ খেলা!',    # rain/match \n",
        "         'ভ্রমণ ইতিহাস সাহিত্য মহাকাব্যের আঙিনায়']   # travel/history/literature/epic"
      ],
      "metadata": {
        "id": "hPkZHQtrL1jb"
      },
      "execution_count": 179,
      "outputs": []
    },
    {
      "cell_type": "code",
      "source": [
        "for i in range(len(data1)):\n",
        "  cleaned = remove_stopwords(data1[i], stopwords)   # removing stop words using bnltk corpus\n",
        "  for j in cleaned:   # removing punctuations\n",
        "    if j in punctuations:\n",
        "      cleaned.remove(j)\n",
        "\n",
        "  filtered_sentence = []    # join tokens back to form sentence\n",
        "  for w in cleaned: \n",
        "    filtered_sentence.append(w)\n",
        "  cleaned_sentence = \" \".join(filtered_sentence)\n",
        "\n",
        "  data1[i] = cleaned_sentence\n",
        "\n",
        "  features_1 = tfidf.transform(data1).toarray()"
      ],
      "metadata": {
        "id": "w0v3BKbDPAe5"
      },
      "execution_count": 180,
      "outputs": []
    },
    {
      "cell_type": "code",
      "source": [
        "model.predict(features_1)"
      ],
      "metadata": {
        "colab": {
          "base_uri": "https://localhost:8080/"
        },
        "id": "gOX_Jb-fPSYt",
        "outputId": "ed8f2aa0-5ca1-4786-c77f-95873b4d2182"
      },
      "execution_count": 181,
      "outputs": [
        {
          "output_type": "execute_result",
          "data": {
            "text/plain": [
              "array([1, 2, 4])"
            ]
          },
          "metadata": {},
          "execution_count": 181
        }
      ]
    }
  ]
}